{
  "nbformat": 4,
  "nbformat_minor": 0,
  "metadata": {
    "colab": {
      "provenance": [],
      "authorship_tag": "ABX9TyMaKk1oACB1lT1Pz/IrJUrI",
      "include_colab_link": true
    },
    "kernelspec": {
      "name": "python3",
      "display_name": "Python 3"
    },
    "language_info": {
      "name": "python"
    }
  },
  "cells": [
    {
      "cell_type": "markdown",
      "metadata": {
        "id": "view-in-github",
        "colab_type": "text"
      },
      "source": [
        "<a href=\"https://colab.research.google.com/github/Chris17cas/MyfirstGithub/blob/main/Untitled1.ipynb\" target=\"_parent\"><img src=\"https://colab.research.google.com/assets/colab-badge.svg\" alt=\"Open In Colab\"/></a>"
      ]
    },
    {
      "cell_type": "code",
      "execution_count": 21,
      "metadata": {
        "id": "fRIWDIwY2x3n",
        "colab": {
          "base_uri": "https://localhost:8080/"
        },
        "outputId": "084a0ed4-4d17-461f-bb92-5cde067ecf4a"
      },
      "outputs": [
        {
          "output_type": "stream",
          "name": "stdout",
          "text": [
            "[[1]\n",
            " [2]\n",
            " [3]]\n",
            "(3, 1)\n",
            "[[1 2 3]]\n",
            "(1, 3)\n",
            "[[ 1  2  3]\n",
            " [ 2  4  2]\n",
            " [ 4 56 21]]\n",
            "(3, 3)\n",
            "# rows 3 #colums 3\n"
          ]
        }
      ],
      "source": [
        "#numpy\n",
        "import numpy as np\n",
        "x=np.array(([1],[2],[3]))\n",
        "print(x)\n",
        "print(x.shape)\n",
        "\n",
        "y=np.array([[1,2,3]])\n",
        "print(y)\n",
        "print(y.shape)\n",
        "\n",
        "matrix=np.array([[1,2,3],[2,4,2],[4,56,21]])\n",
        "print(matrix)\n",
        "print(matrix.shape)\n",
        "\n",
        "n,m=matrix.shape\n",
        "print('# rows',n,'#colums',m)\n",
        "\n"
      ]
    }
  ]
}