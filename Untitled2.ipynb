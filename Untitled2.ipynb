{
  "nbformat": 4,
  "nbformat_minor": 0,
  "metadata": {
    "colab": {
      "provenance": [],
      "authorship_tag": "ABX9TyOOk8vVHVr5EiwHtFqXoq9Q",
      "include_colab_link": true
    },
    "kernelspec": {
      "name": "python3",
      "display_name": "Python 3"
    },
    "language_info": {
      "name": "python"
    }
  },
  "cells": [
    {
      "cell_type": "markdown",
      "metadata": {
        "id": "view-in-github",
        "colab_type": "text"
      },
      "source": [
        "<a href=\"https://colab.research.google.com/github/Chris17cas/MyfirstGithub/blob/main/Untitled2.ipynb\" target=\"_parent\"><img src=\"https://colab.research.google.com/assets/colab-badge.svg\" alt=\"Open In Colab\"/></a>"
      ]
    },
    {
      "cell_type": "code",
      "execution_count": null,
      "metadata": {
        "id": "i4GdFtsZtip7",
        "colab": {
          "base_uri": "https://localhost:8080/"
        },
        "outputId": "803c1b57-b7a7-4fa8-cee4-809395a16472"
      },
      "outputs": [
        {
          "output_type": "stream",
          "name": "stdout",
          "text": [
            "name:   christian\n",
            "name:\t christian\n",
            "name:\n",
            " christian\n",
            "3.2\n"
          ]
        }
      ],
      "source": [
        "print('name: ',' christian')\n",
        "print('name:\\t','christian')\n",
        "print('name:\\n','christian')\n",
        "redondeo=round(3.20230,2)\n",
        "print(redondeo)\n",
        "\n",
        "\n"
      ]
    },
    {
      "cell_type": "code",
      "source": [
        "#excersise 1\n",
        "#aprosximate the number 15.4785612358\n",
        "number=15.4785612358\n",
        "initial_aprox=0\n",
        "final_aprox=11\n",
        "for i in range(initial_aprox,final_aprox):\n",
        "  print(\"aproximate with \",i,\"decimals \",round(number,i))\n"
      ],
      "metadata": {
        "colab": {
          "base_uri": "https://localhost:8080/"
        },
        "id": "3wNJwsRaxNke",
        "outputId": "b91c3adb-5e48-4bec-a3a2-6392891be592"
      },
      "execution_count": 5,
      "outputs": [
        {
          "output_type": "stream",
          "name": "stdout",
          "text": [
            "aproximate with  0 decimals  15.0\n",
            "aproximate with  1 decimals  15.5\n",
            "aproximate with  2 decimals  15.48\n",
            "aproximate with  3 decimals  15.479\n",
            "aproximate with  4 decimals  15.4786\n",
            "aproximate with  5 decimals  15.47856\n",
            "aproximate with  6 decimals  15.478561\n",
            "aproximate with  7 decimals  15.4785612\n",
            "aproximate with  8 decimals  15.47856124\n",
            "aproximate with  9 decimals  15.478561236\n",
            "aproximate with  10 decimals  15.4785612358\n"
          ]
        }
      ]
    },
    {
      "cell_type": "code",
      "source": [
        "#excersise 2\n",
        "#find and print 100 first multiples of 7\n",
        "number=7\n",
        "initial=0\n",
        "final=101\n",
        "for i in range(initial,final):\n",
        "  print(\"multiples o 7 \",i,\" es \", i*number)"
      ],
      "metadata": {
        "colab": {
          "base_uri": "https://localhost:8080/"
        },
        "id": "mlstwuF3x1Vf",
        "outputId": "3f1f112e-e982-4c20-b8fd-3ae4e70f5f13"
      },
      "execution_count": 4,
      "outputs": [
        {
          "output_type": "stream",
          "name": "stdout",
          "text": [
            "multiples o 7  0  es  0\n",
            "multiples o 7  1  es  7\n",
            "multiples o 7  2  es  14\n",
            "multiples o 7  3  es  21\n",
            "multiples o 7  4  es  28\n",
            "multiples o 7  5  es  35\n",
            "multiples o 7  6  es  42\n",
            "multiples o 7  7  es  49\n",
            "multiples o 7  8  es  56\n",
            "multiples o 7  9  es  63\n",
            "multiples o 7  10  es  70\n",
            "multiples o 7  11  es  77\n",
            "multiples o 7  12  es  84\n",
            "multiples o 7  13  es  91\n",
            "multiples o 7  14  es  98\n",
            "multiples o 7  15  es  105\n",
            "multiples o 7  16  es  112\n",
            "multiples o 7  17  es  119\n",
            "multiples o 7  18  es  126\n",
            "multiples o 7  19  es  133\n",
            "multiples o 7  20  es  140\n",
            "multiples o 7  21  es  147\n",
            "multiples o 7  22  es  154\n",
            "multiples o 7  23  es  161\n",
            "multiples o 7  24  es  168\n",
            "multiples o 7  25  es  175\n",
            "multiples o 7  26  es  182\n",
            "multiples o 7  27  es  189\n",
            "multiples o 7  28  es  196\n",
            "multiples o 7  29  es  203\n",
            "multiples o 7  30  es  210\n",
            "multiples o 7  31  es  217\n",
            "multiples o 7  32  es  224\n",
            "multiples o 7  33  es  231\n",
            "multiples o 7  34  es  238\n",
            "multiples o 7  35  es  245\n",
            "multiples o 7  36  es  252\n",
            "multiples o 7  37  es  259\n",
            "multiples o 7  38  es  266\n",
            "multiples o 7  39  es  273\n",
            "multiples o 7  40  es  280\n",
            "multiples o 7  41  es  287\n",
            "multiples o 7  42  es  294\n",
            "multiples o 7  43  es  301\n",
            "multiples o 7  44  es  308\n",
            "multiples o 7  45  es  315\n",
            "multiples o 7  46  es  322\n",
            "multiples o 7  47  es  329\n",
            "multiples o 7  48  es  336\n",
            "multiples o 7  49  es  343\n",
            "multiples o 7  50  es  350\n",
            "multiples o 7  51  es  357\n",
            "multiples o 7  52  es  364\n",
            "multiples o 7  53  es  371\n",
            "multiples o 7  54  es  378\n",
            "multiples o 7  55  es  385\n",
            "multiples o 7  56  es  392\n",
            "multiples o 7  57  es  399\n",
            "multiples o 7  58  es  406\n",
            "multiples o 7  59  es  413\n",
            "multiples o 7  60  es  420\n",
            "multiples o 7  61  es  427\n",
            "multiples o 7  62  es  434\n",
            "multiples o 7  63  es  441\n",
            "multiples o 7  64  es  448\n",
            "multiples o 7  65  es  455\n",
            "multiples o 7  66  es  462\n",
            "multiples o 7  67  es  469\n",
            "multiples o 7  68  es  476\n",
            "multiples o 7  69  es  483\n",
            "multiples o 7  70  es  490\n",
            "multiples o 7  71  es  497\n",
            "multiples o 7  72  es  504\n",
            "multiples o 7  73  es  511\n",
            "multiples o 7  74  es  518\n",
            "multiples o 7  75  es  525\n",
            "multiples o 7  76  es  532\n",
            "multiples o 7  77  es  539\n",
            "multiples o 7  78  es  546\n",
            "multiples o 7  79  es  553\n",
            "multiples o 7  80  es  560\n",
            "multiples o 7  81  es  567\n",
            "multiples o 7  82  es  574\n",
            "multiples o 7  83  es  581\n",
            "multiples o 7  84  es  588\n",
            "multiples o 7  85  es  595\n",
            "multiples o 7  86  es  602\n",
            "multiples o 7  87  es  609\n",
            "multiples o 7  88  es  616\n",
            "multiples o 7  89  es  623\n",
            "multiples o 7  90  es  630\n",
            "multiples o 7  91  es  637\n",
            "multiples o 7  92  es  644\n",
            "multiples o 7  93  es  651\n",
            "multiples o 7  94  es  658\n",
            "multiples o 7  95  es  665\n",
            "multiples o 7  96  es  672\n",
            "multiples o 7  97  es  679\n",
            "multiples o 7  98  es  686\n",
            "multiples o 7  99  es  693\n",
            "multiples o 7  100  es  700\n"
          ]
        }
      ]
    },
    {
      "cell_type": "code",
      "source": [
        "for i in range(1,20,3):\n",
        "  print(i)\n",
        "print('************************************')\n",
        "numero=15.4795612358\n",
        "redondeo1=round(numero,1)\n",
        "redondeo2=round(numero,2)\n",
        "redondeo3='{:.3f}'.format(numero)\n",
        "redondeo6='{:.6f}'.format(numero)\n",
        "redondeo4=round(numero,4)\n",
        "print(redondeo1)\n",
        "print(redondeo2)\n",
        "print(redondeo3)\n",
        "print(redondeo4)\n",
        "float_number=float(redondeo6)\n",
        "\n",
        "for i in range(0,11):\n",
        "  redondeo=round(numero,i)\n",
        "  print('aproximation ',redondeo)\n",
        "\n",
        "\n",
        "print('************************************')\n",
        "\n",
        "#EXCERCISE 2\n",
        "# find and print the 100 first multiples of 7\n",
        "\n",
        "for i in range(0,101):\n",
        "\n",
        "  multiplos=7*i\n",
        "  print('this are the first 100 multiples of 7 ',{i},'  ',multiplos)\n",
        "\n",
        "\n"
      ],
      "metadata": {
        "colab": {
          "base_uri": "https://localhost:8080/"
        },
        "id": "qODmBHcAyI1d",
        "outputId": "912b5f53-11d5-40b2-e972-a05cefb2317e"
      },
      "execution_count": null,
      "outputs": [
        {
          "output_type": "stream",
          "name": "stdout",
          "text": [
            "1\n",
            "4\n",
            "7\n",
            "10\n",
            "13\n",
            "16\n",
            "19\n",
            "************************************\n",
            "15.5\n",
            "15.48\n",
            "15.480\n",
            "15.4796\n",
            "aproximation  15.0\n",
            "aproximation  15.5\n",
            "aproximation  15.48\n",
            "aproximation  15.48\n",
            "aproximation  15.4796\n",
            "aproximation  15.47956\n",
            "aproximation  15.479561\n",
            "aproximation  15.4795612\n",
            "aproximation  15.47956124\n",
            "aproximation  15.479561236\n",
            "aproximation  15.4795612358\n",
            "************************************\n",
            "this are the first 100 multiples of 7  {0}    0\n",
            "this are the first 100 multiples of 7  {1}    7\n",
            "this are the first 100 multiples of 7  {2}    14\n",
            "this are the first 100 multiples of 7  {3}    21\n",
            "this are the first 100 multiples of 7  {4}    28\n",
            "this are the first 100 multiples of 7  {5}    35\n",
            "this are the first 100 multiples of 7  {6}    42\n",
            "this are the first 100 multiples of 7  {7}    49\n",
            "this are the first 100 multiples of 7  {8}    56\n",
            "this are the first 100 multiples of 7  {9}    63\n",
            "this are the first 100 multiples of 7  {10}    70\n",
            "this are the first 100 multiples of 7  {11}    77\n",
            "this are the first 100 multiples of 7  {12}    84\n",
            "this are the first 100 multiples of 7  {13}    91\n",
            "this are the first 100 multiples of 7  {14}    98\n",
            "this are the first 100 multiples of 7  {15}    105\n",
            "this are the first 100 multiples of 7  {16}    112\n",
            "this are the first 100 multiples of 7  {17}    119\n",
            "this are the first 100 multiples of 7  {18}    126\n",
            "this are the first 100 multiples of 7  {19}    133\n",
            "this are the first 100 multiples of 7  {20}    140\n",
            "this are the first 100 multiples of 7  {21}    147\n",
            "this are the first 100 multiples of 7  {22}    154\n",
            "this are the first 100 multiples of 7  {23}    161\n",
            "this are the first 100 multiples of 7  {24}    168\n",
            "this are the first 100 multiples of 7  {25}    175\n",
            "this are the first 100 multiples of 7  {26}    182\n",
            "this are the first 100 multiples of 7  {27}    189\n",
            "this are the first 100 multiples of 7  {28}    196\n",
            "this are the first 100 multiples of 7  {29}    203\n",
            "this are the first 100 multiples of 7  {30}    210\n",
            "this are the first 100 multiples of 7  {31}    217\n",
            "this are the first 100 multiples of 7  {32}    224\n",
            "this are the first 100 multiples of 7  {33}    231\n",
            "this are the first 100 multiples of 7  {34}    238\n",
            "this are the first 100 multiples of 7  {35}    245\n",
            "this are the first 100 multiples of 7  {36}    252\n",
            "this are the first 100 multiples of 7  {37}    259\n",
            "this are the first 100 multiples of 7  {38}    266\n",
            "this are the first 100 multiples of 7  {39}    273\n",
            "this are the first 100 multiples of 7  {40}    280\n",
            "this are the first 100 multiples of 7  {41}    287\n",
            "this are the first 100 multiples of 7  {42}    294\n",
            "this are the first 100 multiples of 7  {43}    301\n",
            "this are the first 100 multiples of 7  {44}    308\n",
            "this are the first 100 multiples of 7  {45}    315\n",
            "this are the first 100 multiples of 7  {46}    322\n",
            "this are the first 100 multiples of 7  {47}    329\n",
            "this are the first 100 multiples of 7  {48}    336\n",
            "this are the first 100 multiples of 7  {49}    343\n",
            "this are the first 100 multiples of 7  {50}    350\n",
            "this are the first 100 multiples of 7  {51}    357\n",
            "this are the first 100 multiples of 7  {52}    364\n",
            "this are the first 100 multiples of 7  {53}    371\n",
            "this are the first 100 multiples of 7  {54}    378\n",
            "this are the first 100 multiples of 7  {55}    385\n",
            "this are the first 100 multiples of 7  {56}    392\n",
            "this are the first 100 multiples of 7  {57}    399\n",
            "this are the first 100 multiples of 7  {58}    406\n",
            "this are the first 100 multiples of 7  {59}    413\n",
            "this are the first 100 multiples of 7  {60}    420\n",
            "this are the first 100 multiples of 7  {61}    427\n",
            "this are the first 100 multiples of 7  {62}    434\n",
            "this are the first 100 multiples of 7  {63}    441\n",
            "this are the first 100 multiples of 7  {64}    448\n",
            "this are the first 100 multiples of 7  {65}    455\n",
            "this are the first 100 multiples of 7  {66}    462\n",
            "this are the first 100 multiples of 7  {67}    469\n",
            "this are the first 100 multiples of 7  {68}    476\n",
            "this are the first 100 multiples of 7  {69}    483\n",
            "this are the first 100 multiples of 7  {70}    490\n",
            "this are the first 100 multiples of 7  {71}    497\n",
            "this are the first 100 multiples of 7  {72}    504\n",
            "this are the first 100 multiples of 7  {73}    511\n",
            "this are the first 100 multiples of 7  {74}    518\n",
            "this are the first 100 multiples of 7  {75}    525\n",
            "this are the first 100 multiples of 7  {76}    532\n",
            "this are the first 100 multiples of 7  {77}    539\n",
            "this are the first 100 multiples of 7  {78}    546\n",
            "this are the first 100 multiples of 7  {79}    553\n",
            "this are the first 100 multiples of 7  {80}    560\n",
            "this are the first 100 multiples of 7  {81}    567\n",
            "this are the first 100 multiples of 7  {82}    574\n",
            "this are the first 100 multiples of 7  {83}    581\n",
            "this are the first 100 multiples of 7  {84}    588\n",
            "this are the first 100 multiples of 7  {85}    595\n",
            "this are the first 100 multiples of 7  {86}    602\n",
            "this are the first 100 multiples of 7  {87}    609\n",
            "this are the first 100 multiples of 7  {88}    616\n",
            "this are the first 100 multiples of 7  {89}    623\n",
            "this are the first 100 multiples of 7  {90}    630\n",
            "this are the first 100 multiples of 7  {91}    637\n",
            "this are the first 100 multiples of 7  {92}    644\n",
            "this are the first 100 multiples of 7  {93}    651\n",
            "this are the first 100 multiples of 7  {94}    658\n",
            "this are the first 100 multiples of 7  {95}    665\n",
            "this are the first 100 multiples of 7  {96}    672\n",
            "this are the first 100 multiples of 7  {97}    679\n",
            "this are the first 100 multiples of 7  {98}    686\n",
            "this are the first 100 multiples of 7  {99}    693\n",
            "this are the first 100 multiples of 7  {100}    700\n",
            "table 3: {0} * 3 0\n",
            "table 3: {1} * 3 3\n",
            "table 3: {2} * 3 6\n",
            "table 3: {3} * 3 9\n",
            "table 3: {4} * 3 12\n",
            "table 3: {5} * 3 15\n",
            "table 3: {6} * 3 18\n",
            "table 3: {7} * 3 21\n",
            "table 3: {8} * 3 24\n",
            "table 3: {9} * 3 27\n"
          ]
        }
      ]
    },
    {
      "cell_type": "code",
      "source": [
        "#excersise 3\n",
        "#calculate and print the multiplication table for numbers 3,4,5,6 up to 9\n",
        "initial_table=3\n",
        "final_table=7\n",
        "initial=1\n",
        "final=19\n",
        "for i in range(initial_table,final_table):\n",
        "  print('multiplication table',i)\n",
        "  for j in range(initial,final):\n",
        "    print(j,'*',i,'=',j*i)\n"
      ],
      "metadata": {
        "colab": {
          "base_uri": "https://localhost:8080/"
        },
        "id": "tf241hdL6ohv",
        "outputId": "6756bc7b-76ce-4115-a20b-02694b609b1f"
      },
      "execution_count": 6,
      "outputs": [
        {
          "output_type": "stream",
          "name": "stdout",
          "text": [
            "multiplication table 3\n",
            "1 * 3 = 3\n",
            "2 * 3 = 6\n",
            "3 * 3 = 9\n",
            "4 * 3 = 12\n",
            "5 * 3 = 15\n",
            "6 * 3 = 18\n",
            "7 * 3 = 21\n",
            "8 * 3 = 24\n",
            "9 * 3 = 27\n",
            "10 * 3 = 30\n",
            "11 * 3 = 33\n",
            "12 * 3 = 36\n",
            "13 * 3 = 39\n",
            "14 * 3 = 42\n",
            "15 * 3 = 45\n",
            "16 * 3 = 48\n",
            "17 * 3 = 51\n",
            "18 * 3 = 54\n",
            "multiplication table 4\n",
            "1 * 4 = 4\n",
            "2 * 4 = 8\n",
            "3 * 4 = 12\n",
            "4 * 4 = 16\n",
            "5 * 4 = 20\n",
            "6 * 4 = 24\n",
            "7 * 4 = 28\n",
            "8 * 4 = 32\n",
            "9 * 4 = 36\n",
            "10 * 4 = 40\n",
            "11 * 4 = 44\n",
            "12 * 4 = 48\n",
            "13 * 4 = 52\n",
            "14 * 4 = 56\n",
            "15 * 4 = 60\n",
            "16 * 4 = 64\n",
            "17 * 4 = 68\n",
            "18 * 4 = 72\n",
            "multiplication table 5\n",
            "1 * 5 = 5\n",
            "2 * 5 = 10\n",
            "3 * 5 = 15\n",
            "4 * 5 = 20\n",
            "5 * 5 = 25\n",
            "6 * 5 = 30\n",
            "7 * 5 = 35\n",
            "8 * 5 = 40\n",
            "9 * 5 = 45\n",
            "10 * 5 = 50\n",
            "11 * 5 = 55\n",
            "12 * 5 = 60\n",
            "13 * 5 = 65\n",
            "14 * 5 = 70\n",
            "15 * 5 = 75\n",
            "16 * 5 = 80\n",
            "17 * 5 = 85\n",
            "18 * 5 = 90\n",
            "multiplication table 6\n",
            "1 * 6 = 6\n",
            "2 * 6 = 12\n",
            "3 * 6 = 18\n",
            "4 * 6 = 24\n",
            "5 * 6 = 30\n",
            "6 * 6 = 36\n",
            "7 * 6 = 42\n",
            "8 * 6 = 48\n",
            "9 * 6 = 54\n",
            "10 * 6 = 60\n",
            "11 * 6 = 66\n",
            "12 * 6 = 72\n",
            "13 * 6 = 78\n",
            "14 * 6 = 84\n",
            "15 * 6 = 90\n",
            "16 * 6 = 96\n",
            "17 * 6 = 102\n",
            "18 * 6 = 108\n"
          ]
        }
      ]
    },
    {
      "cell_type": "markdown",
      "source": [
        "**naming**\n"
      ],
      "metadata": {
        "id": "eT7aiXY210LW"
      }
    },
    {
      "cell_type": "code",
      "source": [
        "#best practices"
      ],
      "metadata": {
        "id": "3Z75AWAh13J4"
      },
      "execution_count": null,
      "outputs": []
    },
    {
      "cell_type": "markdown",
      "source": [
        "# **5.data types**"
      ],
      "metadata": {
        "id": "8dgaQMMH33xx"
      }
    },
    {
      "cell_type": "code",
      "source": [
        "  w=1\n"
      ],
      "metadata": {
        "id": "ENsJB2ee5JMM"
      },
      "execution_count": 15,
      "outputs": []
    },
    {
      "cell_type": "code",
      "source": [
        "w+=1\n",
        "print(w)"
      ],
      "metadata": {
        "colab": {
          "base_uri": "https://localhost:8080/"
        },
        "id": "gAk1bY3l5-hV",
        "outputId": "bc589dec-f3b9-47fc-8920-5e59ef408471"
      },
      "execution_count": 21,
      "outputs": [
        {
          "output_type": "stream",
          "name": "stdout",
          "text": [
            "7\n"
          ]
        }
      ]
    },
    {
      "cell_type": "markdown",
      "source": [
        "#5.1 **booleans**"
      ],
      "metadata": {
        "id": "Gqoi4_yy6N8b"
      }
    },
    {
      "cell_type": "code",
      "source": [
        "a=True\n",
        "print(type(a))"
      ],
      "metadata": {
        "colab": {
          "base_uri": "https://localhost:8080/"
        },
        "id": "9cAUNh-F6XnQ",
        "outputId": "6b69b4b6-d0db-424a-c02e-dd47e7fd91b7"
      },
      "execution_count": 22,
      "outputs": [
        {
          "output_type": "stream",
          "name": "stdout",
          "text": [
            "<class 'bool'>\n"
          ]
        }
      ]
    },
    {
      "cell_type": "markdown",
      "source": [
        "#**boolean expression**#"
      ],
      "metadata": {
        "id": "opNygy247FWF"
      }
    },
    {
      "cell_type": "code",
      "source": [
        "#practice\n",
        "#create the necessary code to evaluate the expression\n",
        "#x*y > x+y\n",
        "#for numbers ranging from 1 to 6\n",
        "\n",
        "\n",
        "for x in range(1,7):\n",
        "  for y in range(1,7):\n",
        "    print(x,'*',y,'>',x,'+',y)\n",
        "    if (x*y)>(x+y):\n",
        "      print(\"la expresion es true\")\n",
        "    else:\n",
        "      print(\"la expresion es false\")\n",
        "\n"
      ],
      "metadata": {
        "colab": {
          "base_uri": "https://localhost:8080/"
        },
        "id": "t3Qtw_DO7Mg5",
        "outputId": "a5f72361-bd1d-4546-b23b-5117a869e5cf"
      },
      "execution_count": 34,
      "outputs": [
        {
          "output_type": "stream",
          "name": "stdout",
          "text": [
            "1 * 1 > 1 + 1\n",
            "la expresion es false\n",
            "1 * 2 > 1 + 2\n",
            "la expresion es false\n",
            "1 * 3 > 1 + 3\n",
            "la expresion es false\n",
            "1 * 4 > 1 + 4\n",
            "la expresion es false\n",
            "1 * 5 > 1 + 5\n",
            "la expresion es false\n",
            "1 * 6 > 1 + 6\n",
            "la expresion es false\n",
            "2 * 1 > 2 + 1\n",
            "la expresion es false\n",
            "2 * 2 > 2 + 2\n",
            "la expresion es false\n",
            "2 * 3 > 2 + 3\n",
            "la expresion es true\n",
            "2 * 4 > 2 + 4\n",
            "la expresion es true\n",
            "2 * 5 > 2 + 5\n",
            "la expresion es true\n",
            "2 * 6 > 2 + 6\n",
            "la expresion es true\n",
            "3 * 1 > 3 + 1\n",
            "la expresion es false\n",
            "3 * 2 > 3 + 2\n",
            "la expresion es true\n",
            "3 * 3 > 3 + 3\n",
            "la expresion es true\n",
            "3 * 4 > 3 + 4\n",
            "la expresion es true\n",
            "3 * 5 > 3 + 5\n",
            "la expresion es true\n",
            "3 * 6 > 3 + 6\n",
            "la expresion es true\n",
            "4 * 1 > 4 + 1\n",
            "la expresion es false\n",
            "4 * 2 > 4 + 2\n",
            "la expresion es true\n",
            "4 * 3 > 4 + 3\n",
            "la expresion es true\n",
            "4 * 4 > 4 + 4\n",
            "la expresion es true\n",
            "4 * 5 > 4 + 5\n",
            "la expresion es true\n",
            "4 * 6 > 4 + 6\n",
            "la expresion es true\n",
            "5 * 1 > 5 + 1\n",
            "la expresion es false\n",
            "5 * 2 > 5 + 2\n",
            "la expresion es true\n",
            "5 * 3 > 5 + 3\n",
            "la expresion es true\n",
            "5 * 4 > 5 + 4\n",
            "la expresion es true\n",
            "5 * 5 > 5 + 5\n",
            "la expresion es true\n",
            "5 * 6 > 5 + 6\n",
            "la expresion es true\n",
            "6 * 1 > 6 + 1\n",
            "la expresion es false\n",
            "6 * 2 > 6 + 2\n",
            "la expresion es true\n",
            "6 * 3 > 6 + 3\n",
            "la expresion es true\n",
            "6 * 4 > 6 + 4\n",
            "la expresion es true\n",
            "6 * 5 > 6 + 5\n",
            "la expresion es true\n",
            "6 * 6 > 6 + 6\n",
            "la expresion es true\n"
          ]
        }
      ]
    }
  ]
}